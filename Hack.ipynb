{
 "cells": [
  {
   "cell_type": "code",
   "execution_count": 13,
   "metadata": {},
   "outputs": [
    {
     "name": "stdout",
     "output_type": "stream",
     "text": [
      "Wi-Fi Profiles and Passwords:\n",
      "Wi-Fi Profile                 | Password\n",
      "---------------------------------------------\n"
     ]
    }
   ],
   "source": [
    "import subprocess\n",
    "\n",
    "def get_wifi_profiles():\n",
    "    try:\n",
    "        data = subprocess.check_output(['netsh', 'wlan', 'show', 'profiles']).decode('utf-8').split('\\n')\n",
    "        profiles = [line.split(\":\")[1].strip() for line in data if \"All User Profile\" in line]\n",
    "        return profiles\n",
    "    except subprocess.CalledProcessError as e:\n",
    "        print(\"Error:\", e)\n",
    "        return []\n",
    "\n",
    "def get_wifi_password(profile):\n",
    "    try:\n",
    "        results = subprocess.check_output(['netsh', 'wlan', 'show', 'profile', profile, 'key=clear']).decode('utf-8').split('\\n')\n",
    "        password_lines = [line.split(\":\")[1].strip() for line in results if \"Key Content\" in line]\n",
    "        return password_lines[0] if password_lines else None\n",
    "    except subprocess.CalledProcessError as e:\n",
    "        print(\"Error:\", e)\n",
    "        return None\n",
    "\n",
    "def main():\n",
    "    print(\"Wi-Fi Profiles and Passwords:\")\n",
    "    print(\"{:<30}| {:<}\".format(\"Wi-Fi Profile\", \"Password\"))\n",
    "    print(\"-\" * 45)\n",
    "    \n",
    "    profiles = get_wifi_profiles()\n",
    "    for profile in profiles:\n",
    "        password = get_wifi_password(profile)\n",
    "        print(\"{:<30}| {:<}\".format(profile, password if password else \"Password not available\"))\n",
    "    \n",
    "    input(\"Press Enter to exit...\")\n",
    "\n",
    "if __name__ == \"__main__\":\n",
    "    main()\n"
   ]
  }
 ],
 "metadata": {
  "kernelspec": {
   "display_name": "Python 3",
   "language": "python",
   "name": "python3"
  },
  "language_info": {
   "codemirror_mode": {
    "name": "ipython",
    "version": 3
   },
   "file_extension": ".py",
   "mimetype": "text/x-python",
   "name": "python",
   "nbconvert_exporter": "python",
   "pygments_lexer": "ipython3",
   "version": "3.11.4"
  }
 },
 "nbformat": 4,
 "nbformat_minor": 2
}
