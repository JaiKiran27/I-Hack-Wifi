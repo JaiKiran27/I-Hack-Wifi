{
 "cells": [
  {
   "cell_type": "code",
   "execution_count": 1,
   "metadata": {},
   "outputs": [],
   "source": [
    "import subprocess\n",
    "import tkinter as tk\n",
    "from tkinter import ttk\n",
    "\n",
    "def get_wifi_profiles():\n",
    "    try:\n",
    "        data = subprocess.check_output(['netsh', 'wlan', 'show', 'profiles']).decode('utf-8').split('\\n')\n",
    "        profiles = [line.split(\":\")[1].strip() for line in data if \"All User Profile\" in line]\n",
    "        return profiles\n",
    "    except subprocess.CalledProcessError as e:\n",
    "        print(\"Error:\", e)\n",
    "        return []\n",
    "\n",
    "def get_wifi_password(profile):\n",
    "    try:\n",
    "        results = subprocess.check_output(['netsh', 'wlan', 'show', 'profile', profile, 'key=clear']).decode('utf-8').split('\\n')\n",
    "        password_lines = [line.split(\":\")[1].strip() for line in results if \"Key Content\" in line]\n",
    "        return password_lines[0] if password_lines else None\n",
    "    except subprocess.CalledProcessError as e:\n",
    "        print(\"Error:\", e)\n",
    "        return None\n",
    "\n",
    "def show_passwords():\n",
    "    profile_list.delete(0, tk.END)\n",
    "    profiles = get_wifi_profiles()\n",
    "    for profile in profiles:\n",
    "        password = get_wifi_password(profile)\n",
    "        profile_list.insert(tk.END, f\"{profile}: {password if password else 'Password not available'}\")\n",
    "\n",
    "# Create the main window\n",
    "root = tk.Tk()\n",
    "root.title(\"Wi-Fi Password Viewer\")\n",
    "\n",
    "# Create a frame for the listbox\n",
    "frame = ttk.Frame(root, padding=\"10\")\n",
    "frame.grid(row=0, column=0, sticky=(tk.W, tk.E, tk.N, tk.S))\n",
    "\n",
    "# Create a listbox to display profiles and passwords\n",
    "profile_list = tk.Listbox(frame, width=50, height=15)\n",
    "profile_list.grid(row=0, column=0, padx=5, pady=5)\n",
    "\n",
    "# Create a button to trigger the display of passwords\n",
    "show_button = ttk.Button(frame, text=\"Show Wi-Fi Passwords\", command=show_passwords)\n",
    "show_button.grid(row=1, column=0, pady=5)\n",
    "\n",
    "# Create a scrollbar for the listbox\n",
    "scrollbar = ttk.Scrollbar(frame, orient=tk.VERTICAL, command=profile_list.yview)\n",
    "scrollbar.grid(row=0, column=1, sticky=(tk.N, tk.S))\n",
    "profile_list.config(yscrollcommand=scrollbar.set)\n",
    "\n",
    "root.mainloop()\n"
   ]
  }
 ],
 "metadata": {
  "kernelspec": {
   "display_name": "Python 3",
   "language": "python",
   "name": "python3"
  },
  "language_info": {
   "codemirror_mode": {
    "name": "ipython",
    "version": 3
   },
   "file_extension": ".py",
   "mimetype": "text/x-python",
   "name": "python",
   "nbconvert_exporter": "python",
   "pygments_lexer": "ipython3",
   "version": "3.11.4"
  }
 },
 "nbformat": 4,
 "nbformat_minor": 2
}
